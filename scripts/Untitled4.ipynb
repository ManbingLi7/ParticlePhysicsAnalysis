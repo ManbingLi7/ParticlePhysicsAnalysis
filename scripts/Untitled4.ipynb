{
 "cells": [
  {
   "cell_type": "code",
   "execution_count": 1,
   "id": "aa7581c0",
   "metadata": {},
   "outputs": [],
   "source": [
    "TFile* infile_RTI = new TFile(\"/home/manbing/Documents/phdthesis/RTIcut.root\", \"READ\");                                                                                                    \n",
    "TH2F* hRcut2D = (TH2F*) infile_RTI->Get(\"hRcutAcc\");                                                                                                                                      \n",
    "TH1D* hRcut1D = hRcut2D->ProjectionY(\"hRcut1D\");"
   ]
  },
  {
   "cell_type": "code",
   "execution_count": null,
   "id": "87b37564",
   "metadata": {},
   "outputs": [],
   "source": [
    "\n",
    "TCanvas* canvas = new TCanvas(\"canvas\", \"hRcut1D Canvas\", 800, 600);\n",
    "\n",
    "// Draw the 1D histogram\n",
    "hRcut1D->Draw();\n",
    "\n",
    "// Optionally, customize the histogram appearance\n",
    "hRcut1D->SetTitle(\"hRcut1D\");\n",
    "hRcut1D->GetXaxis()->SetTitle(\"X-axis label\");\n",
    "hRcut1D->GetYaxis()->SetTitle(\"Y-axis label\");\n",
    "\n",
    "// Update the canvas\n",
    "canvas->Update();\n",
    "\n",
    "// Save the canvas as an image file (optional)\n",
    "canvas->SaveAs(\"hRcut1D.png\");\n",
    "\n",
    "\n"
   ]
  },
  {
   "cell_type": "code",
   "execution_count": 1,
   "id": "ca42e106",
   "metadata": {},
   "outputs": [
    {
     "name": "stderr",
     "output_type": "stream",
     "text": [
      "\u001b[1minput_line_42:2:2: \u001b[0m\u001b[0;1;31merror: \u001b[0m\u001b[1munknown type name 'import'\u001b[0m\n",
      " import ROOT\n",
      "\u001b[0;1;32m ^\n",
      "\u001b[0m\u001b[1minput_line_42:2:13: \u001b[0m\u001b[0;1;31merror: \u001b[0m\u001b[1mexpected ';' at end of declaration\u001b[0m\n",
      " import ROOT\n",
      "\u001b[0;1;32m            ^\n",
      "\u001b[0m\u001b[0;32m            ;\n",
      "\u001b[0m\u001b[1minput_line_42:4:3: \u001b[0m\u001b[0;1;31merror: \u001b[0m\u001b[1minvalid preprocessing directive\u001b[0m\n",
      "# Normalize the histogram\n",
      "\u001b[0;1;32m  ^\n",
      "\u001b[0m\u001b[1minput_line_42:7:3: \u001b[0m\u001b[0;1;31merror: \u001b[0m\u001b[1minvalid preprocessing directive\u001b[0m\n",
      "# Create a canvas\n",
      "\u001b[0;1;32m  ^\n",
      "\u001b[0m\u001b[1minput_line_42:10:3: \u001b[0m\u001b[0;1;31merror: \u001b[0m\u001b[1minvalid preprocessing directive\u001b[0m\n",
      "# Draw the 1D histogram\n",
      "\u001b[0;1;32m  ^\n",
      "\u001b[0m\u001b[1minput_line_42:13:3: \u001b[0m\u001b[0;1;31merror: \u001b[0m\u001b[1minvalid preprocessing directive\u001b[0m\n",
      "# Optionally, customize the histogram appearance\n",
      "\u001b[0;1;32m  ^\n",
      "\u001b[0m\u001b[1minput_line_42:18:3: \u001b[0m\u001b[0;1;31merror: \u001b[0m\u001b[1minvalid preprocessing directive\u001b[0m\n",
      "# Update the canvas\n",
      "\u001b[0;1;32m  ^\n",
      "\u001b[0m"
     ]
    }
   ],
   "source": [
    "import ROOT\n",
    "from ROOT import TFile, TH2F, TH1D, TCanvas, gROOT\n",
    "# Normalize the histogram\n",
    "hRcut1D.Scale(1.0 / hRcut1D.Integral())\n",
    "\n",
    "# Create a canvas\n",
    "canvas = TCanvas(\"canvas\", \"hRcut1D Canvas\", 800, 600)\n",
    "\n",
    "# Draw the 1D histogram\n",
    "hRcut1D.Draw()\n",
    "\n",
    "# Optionally, customize the histogram appearance\n",
    "hRcut1D.SetTitle(\"hRcut1D\")\n",
    "hRcut1D.GetXaxis().SetTitle(\"X-axis label\")\n",
    "hRcut1D.GetYaxis().SetTitle(\"Y-axis label\")\n",
    "\n",
    "# Update the canvas\n",
    "canvas.Draw()\n"
   ]
  },
  {
   "cell_type": "code",
   "execution_count": null,
   "id": "5abbd164",
   "metadata": {},
   "outputs": [],
   "source": []
  }
 ],
 "metadata": {
  "kernelspec": {
   "display_name": "ROOT C++",
   "language": "c++",
   "name": "root"
  },
  "language_info": {
   "codemirror_mode": "text/x-c++src",
   "file_extension": ".C",
   "mimetype": " text/x-c++src",
   "name": "c++"
  }
 },
 "nbformat": 4,
 "nbformat_minor": 5
}
